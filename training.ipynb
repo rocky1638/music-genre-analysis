{
 "cells": [
  {
   "cell_type": "code",
   "execution_count": 1,
   "metadata": {},
   "outputs": [],
   "source": [
    "import numpy as np\n",
    "import pandas as pd\n",
    "import tensorflow as tf\n",
    "import matplotlib.pyplot as plt\n",
    "import tensorflow.keras as keras\n",
    "from sklearn.preprocessing import StandardScaler\n",
    "from sklearn.model_selection import train_test_split, GridSearchCV\n",
    "from tensorflow.keras.wrappers.scikit_learn import KerasClassifier"
   ]
  },
  {
   "cell_type": "code",
   "execution_count": 2,
   "metadata": {},
   "outputs": [],
   "source": [
    "# set random seed\n",
    "np.random.seed(123)\n",
    "tf.set_random_seed(123)\n",
    "\n",
    "# import the training data \n",
    "X_total = pd.read_csv('X_musical_features.csv').drop('track_id', axis=1)\n",
    "\n",
    "# import single genres y values\n",
    "y_single_total = pd.read_csv('y_genres_onehot_single.csv').drop('Unnamed: 0', axis=1)\n",
    "\n",
    "# import non-one-hotted y values\n",
    "y_cold_single_total = pd.read_csv('y_genres_single.csv')"
   ]
  },
  {
   "cell_type": "code",
   "execution_count": 3,
   "metadata": {},
   "outputs": [],
   "source": [
    "X_train, X_test, y_train, y_test = train_test_split(\n",
    "    X_total, y_single_total, test_size=0.3, shuffle=False, stratify = None\n",
    ")\n",
    "\n",
    "# also split y cold 70/30\n",
    "y_cold_train = y_cold_single_total.head(44559)\n",
    "y_cold_test = y_cold_single_total.tail(y_cold_single_total.shape[0] - 44559)\n",
    "\n",
    "# then do this for \n",
    "# *_train together\n",
    "# *_test together\n",
    "def unison_shuffled_copies(a, b, c):\n",
    "    assert len(a) == b.shape[0]\n",
    "    assert a.shape[0] == c.shape[0]\n",
    "    \n",
    "    p = np.random.permutation(len(a))\n",
    "    return a.iloc[p, :], b.iloc[p, :], c.iloc[p, :]\n",
    "\n",
    "#new variables with shuffled \n",
    "X_train_shuf, y_train_shuf, y_cold_train_shuf = unison_shuffled_copies(X_train, y_train, y_cold_train)\n",
    "\n",
    "#also do this for test set"
   ]
  },
  {
   "cell_type": "markdown",
   "metadata": {},
   "source": [
    "Testing for correctness in shuffling"
   ]
  },
  {
   "cell_type": "code",
   "execution_count": 4,
   "metadata": {},
   "outputs": [],
   "source": [
    "scaler = StandardScaler()\n",
    "\n",
    "X_train_scaled = scaler.fit_transform(X_train_shuf)\n",
    "X_test_scaled = scaler.transform(X_test)"
   ]
  },
  {
   "cell_type": "code",
   "execution_count": 5,
   "metadata": {},
   "outputs": [],
   "source": [
    "# del X_train, X_test"
   ]
  },
  {
   "cell_type": "code",
   "execution_count": 19,
   "metadata": {},
   "outputs": [],
   "source": [
    "def create_model(learn_rate, momentum):\n",
    "    model = keras.models.Sequential()\n",
    "    sgd_optimizer = keras.optimizers.SGD(lr=learn_rate, decay=1e-7, momentum=momentum)\n",
    "\n",
    "    # INPUT LAYER\n",
    "    model.add(\n",
    "        keras.layers.Dense(\n",
    "            units=518,\n",
    "            input_dim=X_train_scaled.shape[1],\n",
    "            kernel_initializer='glorot_uniform',\n",
    "            bias_initializer=keras.initializers.RandomNormal(mean=0.0, stddev=0.05, seed=None),\n",
    "            activation='relu',\n",
    "        )\n",
    "    )\n",
    "\n",
    "    # HIDDEN LAYER 1\n",
    "#     model.add(\n",
    "#         keras.layers.Dense(\n",
    "#             units=474,\n",
    "#             input_dim=518,\n",
    "#             kernel_initializer='glorot_uniform',\n",
    "#             bias_initializer=keras.initializers.RandomNormal(mean=0.0, stddev=0.05, seed=None),\n",
    "#             activation='relu'\n",
    "#         )\n",
    "#     )\n",
    "\n",
    "    # HIDDEN LAYER 2\n",
    "    model.add(\n",
    "        keras.layers.Dense(\n",
    "            units=300,\n",
    "            input_dim=518,\n",
    "            kernel_initializer='glorot_uniform',\n",
    "            bias_initializer=keras.initializers.RandomNormal(mean=0.0, stddev=0.05, seed=None),\n",
    "            activation='relu'\n",
    "        )\n",
    "    )\n",
    "\n",
    "    # HIDDEN LAYER 3\n",
    "    model.add(\n",
    "        keras.layers.Dense(\n",
    "            units=200,\n",
    "            input_dim=300,\n",
    "            kernel_initializer='glorot_uniform',\n",
    "            bias_initializer=keras.initializers.RandomNormal(mean=0.0, stddev=0.05, seed=None),\n",
    "            activation='relu'\n",
    "        )\n",
    "    )\n",
    "\n",
    "    # OUTPUT LAYER\n",
    "    model.add(\n",
    "        keras.layers.Dense(\n",
    "            units=y_train.shape[1],\n",
    "            input_dim=200,\n",
    "            kernel_initializer='glorot_uniform',\n",
    "            bias_initializer=keras.initializers.RandomNormal(mean=0.0, stddev=0.05, seed=None),\n",
    "            activation='softmax'\n",
    "        )\n",
    "    )\n",
    "\n",
    "    model.compile(\n",
    "        optimizer=sgd_optimizer,\n",
    "        loss='categorical_crossentropy',\n",
    "        metrics=['accuracy'],\n",
    "    )\n",
    "    \n",
    "    return model"
   ]
  },
  {
   "cell_type": "markdown",
   "metadata": {},
   "source": [
    "## Best Things So Far\n",
    "* Batch Size: **60** _(maybe 64 to optimize because of powers of 2)_\n",
    "* Optimizer: **SGD**"
   ]
  },
  {
   "cell_type": "code",
   "execution_count": 20,
   "metadata": {
    "scrolled": true
   },
   "outputs": [
    {
     "name": "stderr",
     "output_type": "stream",
     "text": [
      "/Library/Frameworks/Python.framework/Versions/3.7/lib/python3.7/site-packages/sklearn/model_selection/_split.py:1943: FutureWarning: You should specify a value for 'cv' instead of relying on the default value. The default value will change from 3 to 5 in version 0.22.\n",
      "  warnings.warn(CV_WARNING, FutureWarning)\n",
      "[Parallel(n_jobs=1)]: Using backend SequentialBackend with 1 concurrent workers.\n"
     ]
    },
    {
     "name": "stdout",
     "output_type": "stream",
     "text": [
      "Fitting 3 folds for each of 30 candidates, totalling 90 fits\n",
      "[CV] learn_rate=0.001, momentum=0.0 ..................................\n",
      "[CV] ................... learn_rate=0.001, momentum=0.0, total=  15.7s\n",
      "[CV] learn_rate=0.001, momentum=0.0 ..................................\n"
     ]
    },
    {
     "name": "stderr",
     "output_type": "stream",
     "text": [
      "[Parallel(n_jobs=1)]: Done   1 out of   1 | elapsed:   16.3s remaining:    0.0s\n"
     ]
    },
    {
     "name": "stdout",
     "output_type": "stream",
     "text": [
      "[CV] ................... learn_rate=0.001, momentum=0.0, total=  15.8s\n",
      "[CV] learn_rate=0.001, momentum=0.0 ..................................\n",
      "[CV] ................... learn_rate=0.001, momentum=0.0, total=  16.7s\n",
      "[CV] learn_rate=0.001, momentum=0.2 ..................................\n",
      "[CV] ................... learn_rate=0.001, momentum=0.2, total=  16.6s\n",
      "[CV] learn_rate=0.001, momentum=0.2 ..................................\n",
      "[CV] ................... learn_rate=0.001, momentum=0.2, total=  16.0s\n",
      "[CV] learn_rate=0.001, momentum=0.2 ..................................\n",
      "[CV] ................... learn_rate=0.001, momentum=0.2, total=  16.1s\n",
      "[CV] learn_rate=0.001, momentum=0.4 ..................................\n",
      "[CV] ................... learn_rate=0.001, momentum=0.4, total=  16.4s\n",
      "[CV] learn_rate=0.001, momentum=0.4 ..................................\n",
      "[CV] ................... learn_rate=0.001, momentum=0.4, total=  16.3s\n",
      "[CV] learn_rate=0.001, momentum=0.4 ..................................\n",
      "[CV] ................... learn_rate=0.001, momentum=0.4, total=  17.3s\n",
      "[CV] learn_rate=0.001, momentum=0.6 ..................................\n",
      "[CV] ................... learn_rate=0.001, momentum=0.6, total=  17.4s\n",
      "[CV] learn_rate=0.001, momentum=0.6 ..................................\n",
      "[CV] ................... learn_rate=0.001, momentum=0.6, total=  16.9s\n",
      "[CV] learn_rate=0.001, momentum=0.6 ..................................\n",
      "[CV] ................... learn_rate=0.001, momentum=0.6, total=  17.0s\n",
      "[CV] learn_rate=0.001, momentum=0.8 ..................................\n",
      "[CV] ................... learn_rate=0.001, momentum=0.8, total=  17.1s\n",
      "[CV] learn_rate=0.001, momentum=0.8 ..................................\n",
      "[CV] ................... learn_rate=0.001, momentum=0.8, total=  17.1s\n",
      "[CV] learn_rate=0.001, momentum=0.8 ..................................\n",
      "[CV] ................... learn_rate=0.001, momentum=0.8, total=  17.2s\n",
      "[CV] learn_rate=0.001, momentum=0.9 ..................................\n",
      "[CV] ................... learn_rate=0.001, momentum=0.9, total=  17.6s\n",
      "[CV] learn_rate=0.001, momentum=0.9 ..................................\n",
      "[CV] ................... learn_rate=0.001, momentum=0.9, total=  17.5s\n",
      "[CV] learn_rate=0.001, momentum=0.9 ..................................\n",
      "[CV] ................... learn_rate=0.001, momentum=0.9, total=  18.8s\n",
      "[CV] learn_rate=0.01, momentum=0.0 ...................................\n",
      "[CV] .................... learn_rate=0.01, momentum=0.0, total=  19.5s\n",
      "[CV] learn_rate=0.01, momentum=0.0 ...................................\n",
      "[CV] .................... learn_rate=0.01, momentum=0.0, total=  18.8s\n",
      "[CV] learn_rate=0.01, momentum=0.0 ...................................\n",
      "[CV] .................... learn_rate=0.01, momentum=0.0, total=  19.5s\n",
      "[CV] learn_rate=0.01, momentum=0.2 ...................................\n",
      "[CV] .................... learn_rate=0.01, momentum=0.2, total=  18.4s\n",
      "[CV] learn_rate=0.01, momentum=0.2 ...................................\n",
      "[CV] .................... learn_rate=0.01, momentum=0.2, total=  19.5s\n",
      "[CV] learn_rate=0.01, momentum=0.2 ...................................\n",
      "[CV] .................... learn_rate=0.01, momentum=0.2, total=  19.7s\n",
      "[CV] learn_rate=0.01, momentum=0.4 ...................................\n",
      "[CV] .................... learn_rate=0.01, momentum=0.4, total=  18.9s\n",
      "[CV] learn_rate=0.01, momentum=0.4 ...................................\n",
      "[CV] .................... learn_rate=0.01, momentum=0.4, total=  18.9s\n",
      "[CV] learn_rate=0.01, momentum=0.4 ...................................\n",
      "[CV] .................... learn_rate=0.01, momentum=0.4, total=  19.1s\n",
      "[CV] learn_rate=0.01, momentum=0.6 ...................................\n",
      "[CV] .................... learn_rate=0.01, momentum=0.6, total=  21.7s\n",
      "[CV] learn_rate=0.01, momentum=0.6 ...................................\n",
      "[CV] .................... learn_rate=0.01, momentum=0.6, total=  20.7s\n",
      "[CV] learn_rate=0.01, momentum=0.6 ...................................\n",
      "[CV] .................... learn_rate=0.01, momentum=0.6, total=  21.8s\n",
      "[CV] learn_rate=0.01, momentum=0.8 ...................................\n",
      "[CV] .................... learn_rate=0.01, momentum=0.8, total=  22.2s\n",
      "[CV] learn_rate=0.01, momentum=0.8 ...................................\n",
      "[CV] .................... learn_rate=0.01, momentum=0.8, total=  20.5s\n",
      "[CV] learn_rate=0.01, momentum=0.8 ...................................\n",
      "[CV] .................... learn_rate=0.01, momentum=0.8, total=  21.7s\n",
      "[CV] learn_rate=0.01, momentum=0.9 ...................................\n",
      "[CV] .................... learn_rate=0.01, momentum=0.9, total=  22.2s\n",
      "[CV] learn_rate=0.01, momentum=0.9 ...................................\n",
      "[CV] .................... learn_rate=0.01, momentum=0.9, total=  21.9s\n",
      "[CV] learn_rate=0.01, momentum=0.9 ...................................\n",
      "[CV] .................... learn_rate=0.01, momentum=0.9, total=  20.4s\n",
      "[CV] learn_rate=0.1, momentum=0.0 ....................................\n",
      "[CV] ..................... learn_rate=0.1, momentum=0.0, total=  20.0s\n",
      "[CV] learn_rate=0.1, momentum=0.0 ....................................\n",
      "[CV] ..................... learn_rate=0.1, momentum=0.0, total=  19.6s\n",
      "[CV] learn_rate=0.1, momentum=0.0 ....................................\n",
      "[CV] ..................... learn_rate=0.1, momentum=0.0, total=  19.7s\n",
      "[CV] learn_rate=0.1, momentum=0.2 ....................................\n",
      "[CV] ..................... learn_rate=0.1, momentum=0.2, total=  20.3s\n",
      "[CV] learn_rate=0.1, momentum=0.2 ....................................\n",
      "[CV] ..................... learn_rate=0.1, momentum=0.2, total=  20.2s\n",
      "[CV] learn_rate=0.1, momentum=0.2 ....................................\n",
      "[CV] ..................... learn_rate=0.1, momentum=0.2, total=  20.0s\n",
      "[CV] learn_rate=0.1, momentum=0.4 ....................................\n",
      "[CV] ..................... learn_rate=0.1, momentum=0.4, total=  20.1s\n",
      "[CV] learn_rate=0.1, momentum=0.4 ....................................\n",
      "[CV] ..................... learn_rate=0.1, momentum=0.4, total=  20.5s\n",
      "[CV] learn_rate=0.1, momentum=0.4 ....................................\n",
      "[CV] ..................... learn_rate=0.1, momentum=0.4, total=  20.4s\n",
      "[CV] learn_rate=0.1, momentum=0.6 ....................................\n",
      "[CV] ..................... learn_rate=0.1, momentum=0.6, total=  20.5s\n",
      "[CV] learn_rate=0.1, momentum=0.6 ....................................\n",
      "[CV] ..................... learn_rate=0.1, momentum=0.6, total=  20.9s\n",
      "[CV] learn_rate=0.1, momentum=0.6 ....................................\n",
      "[CV] ..................... learn_rate=0.1, momentum=0.6, total=  21.0s\n",
      "[CV] learn_rate=0.1, momentum=0.8 ....................................\n",
      "[CV] ..................... learn_rate=0.1, momentum=0.8, total=  21.2s\n",
      "[CV] learn_rate=0.1, momentum=0.8 ....................................\n",
      "[CV] ..................... learn_rate=0.1, momentum=0.8, total=  21.1s\n",
      "[CV] learn_rate=0.1, momentum=0.8 ....................................\n",
      "[CV] ..................... learn_rate=0.1, momentum=0.8, total=  21.2s\n",
      "[CV] learn_rate=0.1, momentum=0.9 ....................................\n",
      "[CV] ..................... learn_rate=0.1, momentum=0.9, total=  21.2s\n",
      "[CV] learn_rate=0.1, momentum=0.9 ....................................\n",
      "[CV] ..................... learn_rate=0.1, momentum=0.9, total=  22.8s\n",
      "[CV] learn_rate=0.1, momentum=0.9 ....................................\n",
      "[CV] ..................... learn_rate=0.1, momentum=0.9, total=  21.8s\n",
      "[CV] learn_rate=0.2, momentum=0.0 ....................................\n",
      "[CV] ..................... learn_rate=0.2, momentum=0.0, total=  21.7s\n",
      "[CV] learn_rate=0.2, momentum=0.0 ....................................\n",
      "[CV] ..................... learn_rate=0.2, momentum=0.0, total=  21.8s\n",
      "[CV] learn_rate=0.2, momentum=0.0 ....................................\n",
      "[CV] ..................... learn_rate=0.2, momentum=0.0, total=  22.0s\n",
      "[CV] learn_rate=0.2, momentum=0.2 ....................................\n",
      "[CV] ..................... learn_rate=0.2, momentum=0.2, total=  22.0s\n",
      "[CV] learn_rate=0.2, momentum=0.2 ....................................\n",
      "[CV] ..................... learn_rate=0.2, momentum=0.2, total=  22.1s\n",
      "[CV] learn_rate=0.2, momentum=0.2 ....................................\n"
     ]
    },
    {
     "name": "stdout",
     "output_type": "stream",
     "text": [
      "[CV] ..................... learn_rate=0.2, momentum=0.2, total=  22.2s\n",
      "[CV] learn_rate=0.2, momentum=0.4 ....................................\n",
      "[CV] ..................... learn_rate=0.2, momentum=0.4, total=  22.2s\n",
      "[CV] learn_rate=0.2, momentum=0.4 ....................................\n",
      "[CV] ..................... learn_rate=0.2, momentum=0.4, total=  22.6s\n",
      "[CV] learn_rate=0.2, momentum=0.4 ....................................\n",
      "[CV] ..................... learn_rate=0.2, momentum=0.4, total=  22.7s\n",
      "[CV] learn_rate=0.2, momentum=0.6 ....................................\n",
      "[CV] ..................... learn_rate=0.2, momentum=0.6, total=  22.6s\n",
      "[CV] learn_rate=0.2, momentum=0.6 ....................................\n",
      "[CV] ..................... learn_rate=0.2, momentum=0.6, total=  22.8s\n",
      "[CV] learn_rate=0.2, momentum=0.6 ....................................\n",
      "[CV] ..................... learn_rate=0.2, momentum=0.6, total=  23.5s\n",
      "[CV] learn_rate=0.2, momentum=0.8 ....................................\n",
      "[CV] ..................... learn_rate=0.2, momentum=0.8, total=  23.4s\n",
      "[CV] learn_rate=0.2, momentum=0.8 ....................................\n",
      "[CV] ..................... learn_rate=0.2, momentum=0.8, total=  23.8s\n",
      "[CV] learn_rate=0.2, momentum=0.8 ....................................\n",
      "[CV] ..................... learn_rate=0.2, momentum=0.8, total=  23.7s\n",
      "[CV] learn_rate=0.2, momentum=0.9 ....................................\n",
      "[CV] ..................... learn_rate=0.2, momentum=0.9, total=  23.7s\n",
      "[CV] learn_rate=0.2, momentum=0.9 ....................................\n",
      "[CV] ..................... learn_rate=0.2, momentum=0.9, total=  24.0s\n",
      "[CV] learn_rate=0.2, momentum=0.9 ....................................\n",
      "[CV] ..................... learn_rate=0.2, momentum=0.9, total=  24.1s\n",
      "[CV] learn_rate=0.3, momentum=0.0 ....................................\n",
      "[CV] ..................... learn_rate=0.3, momentum=0.0, total=  24.3s\n",
      "[CV] learn_rate=0.3, momentum=0.0 ....................................\n",
      "[CV] ..................... learn_rate=0.3, momentum=0.0, total=  24.5s\n",
      "[CV] learn_rate=0.3, momentum=0.0 ....................................\n",
      "[CV] ..................... learn_rate=0.3, momentum=0.0, total=  24.8s\n",
      "[CV] learn_rate=0.3, momentum=0.2 ....................................\n",
      "[CV] ..................... learn_rate=0.3, momentum=0.2, total=  24.8s\n",
      "[CV] learn_rate=0.3, momentum=0.2 ....................................\n",
      "[CV] ..................... learn_rate=0.3, momentum=0.2, total=  24.9s\n",
      "[CV] learn_rate=0.3, momentum=0.2 ....................................\n",
      "[CV] ..................... learn_rate=0.3, momentum=0.2, total=  25.1s\n",
      "[CV] learn_rate=0.3, momentum=0.4 ....................................\n",
      "[CV] ..................... learn_rate=0.3, momentum=0.4, total=  25.2s\n",
      "[CV] learn_rate=0.3, momentum=0.4 ....................................\n",
      "[CV] ..................... learn_rate=0.3, momentum=0.4, total=  25.4s\n",
      "[CV] learn_rate=0.3, momentum=0.4 ....................................\n",
      "[CV] ..................... learn_rate=0.3, momentum=0.4, total=  25.3s\n",
      "[CV] learn_rate=0.3, momentum=0.6 ....................................\n",
      "[CV] ..................... learn_rate=0.3, momentum=0.6, total=  25.5s\n",
      "[CV] learn_rate=0.3, momentum=0.6 ....................................\n",
      "[CV] ..................... learn_rate=0.3, momentum=0.6, total=  25.7s\n",
      "[CV] learn_rate=0.3, momentum=0.6 ....................................\n",
      "[CV] ..................... learn_rate=0.3, momentum=0.6, total=  27.3s\n",
      "[CV] learn_rate=0.3, momentum=0.8 ....................................\n",
      "[CV] ..................... learn_rate=0.3, momentum=0.8, total=  26.3s\n",
      "[CV] learn_rate=0.3, momentum=0.8 ....................................\n",
      "[CV] ..................... learn_rate=0.3, momentum=0.8, total=  26.5s\n",
      "[CV] learn_rate=0.3, momentum=0.8 ....................................\n",
      "[CV] ..................... learn_rate=0.3, momentum=0.8, total=  26.6s\n",
      "[CV] learn_rate=0.3, momentum=0.9 ....................................\n",
      "[CV] ..................... learn_rate=0.3, momentum=0.9, total=  27.1s\n",
      "[CV] learn_rate=0.3, momentum=0.9 ....................................\n",
      "[CV] ..................... learn_rate=0.3, momentum=0.9, total=  26.9s\n",
      "[CV] learn_rate=0.3, momentum=0.9 ....................................\n",
      "[CV] ..................... learn_rate=0.3, momentum=0.9, total=  26.9s\n"
     ]
    },
    {
     "name": "stderr",
     "output_type": "stream",
     "text": [
      "[Parallel(n_jobs=1)]: Done  90 out of  90 | elapsed: 32.9min finished\n"
     ]
    }
   ],
   "source": [
    "model = KerasClassifier(\n",
    "    build_fn=create_model,\n",
    "    batch_size=64,\n",
    "    epochs=10,\n",
    "    verbose=0)\n",
    "\n",
    "learn_rate = [0.001, 0.01, 0.1, 0.2, 0.3]\n",
    "momentum = [0.0, 0.2, 0.4, 0.6, 0.8, 0.9]\n",
    "param_grid = dict(learn_rate=learn_rate, momentum=momentum)\n",
    "\n",
    "grid = GridSearchCV(\n",
    "    estimator=model, \n",
    "    param_grid=param_grid, \n",
    "    n_jobs=1,\n",
    "    verbose=2,\n",
    ")\n",
    "grid_result = grid.fit(X_test_scaled, y_test)"
   ]
  },
  {
   "cell_type": "code",
   "execution_count": 17,
   "metadata": {
    "scrolled": true
   },
   "outputs": [
    {
     "name": "stdout",
     "output_type": "stream",
     "text": [
      "Best: 0.260303 using {'optimizer': 'SGD'}\n",
      "0.260303 (0.032376) with: {'optimizer': 'SGD'}\n",
      "0.211028 (0.009815) with: {'optimizer': 'RMSprop'}\n",
      "0.237053 (0.012307) with: {'optimizer': 'Adagrad'}\n",
      "0.209666 (0.021126) with: {'optimizer': 'Adadelta'}\n",
      "0.229094 (0.022945) with: {'optimizer': 'Adam'}\n",
      "0.214013 (0.005979) with: {'optimizer': 'Adamax'}\n",
      "0.212965 (0.017355) with: {'optimizer': 'Nadam'}\n"
     ]
    }
   ],
   "source": [
    "print(\"Best: %f using %s\" % (grid_result.best_score_, grid_result.best_params_))\n",
    "means = grid_result.cv_results_['mean_test_score']\n",
    "stds = grid_result.cv_results_['std_test_score']\n",
    "params = grid_result.cv_results_['params']\n",
    "for mean, stdev, param in zip(means, stds, params):\n",
    "    print(\"%f (%f) with: %r\" % (mean, stdev, param))"
   ]
  },
  {
   "cell_type": "code",
   "execution_count": null,
   "metadata": {},
   "outputs": [],
   "source": [
    "# history = model.fit(\n",
    "# X_train_scaled, y_train_shuf,\n",
    "# batch_size=100, epochs=7,\n",
    "# verbose=1,\n",
    "# validation_data=(X_test_scaled, y_test),\n",
    "# )\n",
    "\n",
    "# plt.plot(history.history['val_acc'])\n",
    "\n",
    "# plt.title('model accuracy')\n",
    "# plt.ylabel('accuracy')\n",
    "# plt.xlabel('epoch')\n",
    "# plt.legend(['gn', 'gu', 'ln', 'lu', 'hn', 'hu'], loc='upper left')\n",
    "# plt.show()"
   ]
  },
  {
   "cell_type": "code",
   "execution_count": 55,
   "metadata": {
    "collapsed": true
   },
   "outputs": [
    {
     "data": {
      "image/png": "[encoded data removed]",
      "text/plain": [
       "<Figure size 864x864 with 1 Axes>"
      ]
     },
     "metadata": {
      "needs_background": "light"
     },
     "output_type": "display_data"
    }
   ],
   "source": [
    "# loss, val_loss = history.history.values()\n",
    "\n",
    "# plt.plot(loss, label=\"Loss\")\n",
    "# plt.plot(val_loss, label=\"CV Loss\")\n",
    "# plt.legend()\n",
    "# plt.ylabel('Loss')\n",
    "# plt.xlabel('Epoch')\n",
    "# plt.ylim(bottom=0, top=5)\n",
    "# plt.title('Figure 1: Loss & Validation Loss as a function of epochs passed')\n",
    "# plt.rcParams[\"figure.figsize\"] = [12,12]\n",
    "# plt.show()"
   ]
  },
  {
   "cell_type": "code",
   "execution_count": 56,
   "metadata": {},
   "outputs": [
    {
     "name": "stdout",
     "output_type": "stream",
     "text": [
      "Accuracy on training set: 0.8906842613164568\n",
      "Accuracy on test set: 0.21170864533696393\n"
     ]
    }
   ],
   "source": [
    "# y_train_pred = model.predict_classes(X_train_scaled, verbose=0)\n",
    "# y_test_pred = model.predict_classes(X_test_scaled, verbose=0)\n",
    "\n",
    "# train_acc = np.sum(y_cold_train_shuf.values.flatten() == y_train_pred, axis=0) / 44559\n",
    "# test_acc = np.sum(y_cold_test.values.flatten() == y_test_pred, axis=0) / 19097\n",
    "\n",
    "# print(f\"Accuracy on training set: {train_acc}\")\n",
    "# print(f\"Accuracy on test set: {test_acc}\")"
   ]
  }
 ],
 "metadata": {
  "kernelspec": {
   "display_name": "Python 3",
   "language": "python",
   "name": "python3"
  },
  "language_info": {
   "codemirror_mode": {
    "name": "ipython",
    "version": 3
   },
   "file_extension": ".py",
   "mimetype": "text/x-python",
   "name": "python",
   "nbconvert_exporter": "python",
   "pygments_lexer": "ipython3",
   "version": "3.7.1"
  }
 },
 "nbformat": 4,
 "nbformat_minor": 2
}
