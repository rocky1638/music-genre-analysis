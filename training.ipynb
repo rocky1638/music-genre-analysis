{
 "cells": [
  {
   "cell_type": "code",
   "execution_count": 2,
   "metadata": {},
   "outputs": [],
   "source": [
    "import numpy as np\n",
    "import pandas as pd\n",
    "import tensorflow as tf\n",
    "import tensorflow.contrib.keras as keras\n",
    "from sklearn.preprocessing import StandardScaler\n",
    "from sklearn.model_selection import train_test_split"
   ]
  },
  {
   "cell_type": "code",
   "execution_count": 3,
   "metadata": {},
   "outputs": [],
   "source": [
    "# set random seed\n",
    "np.random.seed(123)\n",
    "tf.set_random_seed(123)"
   ]
  },
  {
   "cell_type": "code",
   "execution_count": 4,
   "metadata": {},
   "outputs": [],
   "source": [
    "# import the training data \n",
    "X_total = pd.read_csv('X_musical_features.csv').drop('track_id', axis=1)"
   ]
  },
  {
   "cell_type": "code",
   "execution_count": 5,
   "metadata": {},
   "outputs": [],
   "source": [
    "# import single genres y values\n",
    "y_single_total = pd.read_csv('y_genres_onehot_single.csv').drop('Unnamed: 0', axis=1)\n",
    "\n",
    "# import non-one-hotted y values\n",
    "y_cold_single_total = pd.read_csv('y_genres_single.csv')"
   ]
  },
  {
   "cell_type": "code",
   "execution_count": 6,
   "metadata": {},
   "outputs": [
    {
     "name": "stdout",
     "output_type": "stream",
     "text": [
      "(63656, 1)\n",
      "    0\n",
      "0  21\n",
      "1  21\n",
      "2  21\n",
      "3  10\n",
      "4  76\n"
     ]
    }
   ],
   "source": [
    "print(y_cold_single_total.shape)\n",
    "print(y_cold_single_total.iloc[0:5,0:5])"
   ]
  },
  {
   "cell_type": "code",
   "execution_count": 7,
   "metadata": {},
   "outputs": [
    {
     "data": {
      "text/plain": [
       "(63656, 518)"
      ]
     },
     "execution_count": 7,
     "metadata": {},
     "output_type": "execute_result"
    }
   ],
   "source": [
    "X_total.shape"
   ]
  },
  {
   "cell_type": "code",
   "execution_count": 8,
   "metadata": {},
   "outputs": [
    {
     "data": {
      "text/plain": [
       "(63656, 139)"
      ]
     },
     "execution_count": 8,
     "metadata": {},
     "output_type": "execute_result"
    }
   ],
   "source": [
    "y_single_total.shape"
   ]
  },
  {
   "cell_type": "code",
   "execution_count": 9,
   "metadata": {},
   "outputs": [],
   "source": [
    "X_train, X_test, y_train, y_test = train_test_split(\n",
    "    X_total, y_single_total, test_size=0.3, shuffle=False, stratify = None\n",
    ")\n",
    "\n",
    "# also split y cold 70/30\n",
    "y_cold_train = y_cold_single_total.head(44559)\n",
    "y_cold_test = y_cold_single_total.tail(y_cold_single_total.shape[0] - 44559)\n",
    "\n",
    "# then do this for \n",
    "# *_train together\n",
    "# *_test together\n",
    "def unison_shuffled_copies(a, b, c):\n",
    "    assert len(a) == b.shape[0]\n",
    "    assert a.shape[0] == c.shape[0]\n",
    "    \n",
    "    p = np.random.permutation(len(a))\n",
    "    return a.iloc[p, :], b.iloc[p, :], c.iloc[p, :]\n",
    "\n",
    "#new variables with shuffled \n",
    "X_train_shuf, y_train_shuf, y_cold_train_shuf = unison_shuffled_copies(X_train, y_train, y_cold_train)\n",
    "\n",
    "#also do this for test set"
   ]
  },
  {
   "cell_type": "markdown",
   "metadata": {},
   "source": [
    "Testing for correctness in shuffling"
   ]
  },
  {
   "cell_type": "code",
   "execution_count": 10,
   "metadata": {},
   "outputs": [
    {
     "name": "stdout",
     "output_type": "stream",
     "text": [
      "       ('chroma_cens', 'kurtosis', '01')  ('chroma_cens', 'kurtosis', '02')  \\\n",
      "33009                          -0.865313                          -0.436609   \n",
      "11814                           0.046079                          -0.471472   \n",
      "23144                          -0.650234                          -0.715156   \n",
      "25377                           0.189053                           0.324736   \n",
      "22114                           0.369846                           0.532329   \n",
      "\n",
      "       ('chroma_cens', 'kurtosis', '03')  ('chroma_cens', 'kurtosis', '04')  \\\n",
      "33009                          -0.734898                          -0.521307   \n",
      "11814                          -0.561838                          -0.515131   \n",
      "23144                          -0.548415                          -0.533902   \n",
      "25377                           0.355818                          -0.285775   \n",
      "22114                           0.446672                          -0.202046   \n",
      "\n",
      "       ('chroma_cens', 'kurtosis', '05')  \n",
      "33009                          -0.418609  \n",
      "11814                          -0.555745  \n",
      "23144                           1.765920  \n",
      "25377                          -1.129526  \n",
      "22114                          -0.139239  \n",
      "         0    1    2    3    4\n",
      "33009  0.0  0.0  0.0  0.0  0.0\n",
      "11814  0.0  0.0  0.0  0.0  0.0\n",
      "23144  0.0  0.0  0.0  0.0  0.0\n",
      "25377  0.0  0.0  0.0  0.0  0.0\n",
      "22114  0.0  0.0  0.0  0.0  0.0\n",
      "         0\n",
      "33009   15\n",
      "11814   30\n",
      "23144   26\n",
      "25377   10\n",
      "22114  125\n",
      "30351   32\n",
      "6804    10\n",
      "29639   66\n",
      "22902   12\n",
      "26945   33\n",
      "27112   32\n",
      "42414   10\n",
      "36775   21\n",
      "7843    22\n",
      "27170    4\n",
      "4355    10\n",
      "39503   10\n",
      "44226   18\n",
      "29213   10\n",
      "16053   17\n",
      "    0\n",
      "0  21\n",
      "1  21\n",
      "2  21\n",
      "3  10\n",
      "4  76\n",
      "    0\n",
      "0  21\n",
      "1  21\n",
      "2  21\n",
      "3  10\n",
      "4  76\n"
     ]
    }
   ],
   "source": [
    "#Testing values\n",
    "\n",
    "print(X_train_shuf.iloc[0:5,0:5])\n",
    "print(y_train_shuf.iloc[0:5,0:5]) \n",
    "print(y_cold_train_shuf.iloc[0:20,0:5])       #this should be the shuffled value\n",
    "print(y_cold_train.iloc[0:5,0:5])            #this and below should output unshuffled values\n",
    "print(y_cold_single_total.iloc[0:5,0:5])"
   ]
  },
  {
   "cell_type": "code",
   "execution_count": 11,
   "metadata": {},
   "outputs": [],
   "source": [
    "scaler = StandardScaler()\n",
    "\n",
    "X_train_scaled = scaler.fit_transform(X_train_shuf)\n",
    "X_test_scaled = scaler.transform(X_test)"
   ]
  },
  {
   "cell_type": "code",
   "execution_count": 12,
   "metadata": {},
   "outputs": [],
   "source": [
    "# del X_train, X_test"
   ]
  },
  {
   "cell_type": "code",
   "execution_count": 13,
   "metadata": {},
   "outputs": [
    {
     "name": "stdout",
     "output_type": "stream",
     "text": [
      "(44559, 518)\n",
      "(19097, 518)\n"
     ]
    }
   ],
   "source": [
    "print(X_train_scaled.shape)\n",
    "print(X_test_scaled.shape)"
   ]
  },
  {
   "cell_type": "code",
   "execution_count": 14,
   "metadata": {},
   "outputs": [],
   "source": [
    "model = keras.models.Sequential()"
   ]
  },
  {
   "cell_type": "code",
   "execution_count": 15,
   "metadata": {},
   "outputs": [],
   "source": [
    "model.add(\n",
    "    keras.layers.Dense(\n",
    "        units=518,\n",
    "        input_dim=X_train_scaled.shape[1],\n",
    "        kernel_initializer='glorot_uniform',\n",
    "        bias_initializer='zeros',\n",
    "        activation='tanh'\n",
    "    )\n",
    ")"
   ]
  },
  {
   "cell_type": "code",
   "execution_count": 16,
   "metadata": {},
   "outputs": [],
   "source": [
    "model.add(\n",
    "    keras.layers.Dense(\n",
    "        units=474,\n",
    "        input_dim=518,\n",
    "        kernel_initializer='glorot_uniform',\n",
    "        bias_initializer='zeros',\n",
    "        activation='tanh'\n",
    "    )\n",
    ")"
   ]
  },
  {
   "cell_type": "code",
   "execution_count": 17,
   "metadata": {},
   "outputs": [],
   "source": [
    "model.add(\n",
    "    keras.layers.Dense(\n",
    "        units=300,\n",
    "        input_dim=474,\n",
    "        kernel_initializer='glorot_uniform',\n",
    "        bias_initializer='zeros',\n",
    "        activation='tanh'\n",
    "    )\n",
    ")"
   ]
  },
  {
   "cell_type": "code",
   "execution_count": 18,
   "metadata": {},
   "outputs": [],
   "source": [
    "model.add(\n",
    "    keras.layers.Dense(\n",
    "        units=200,\n",
    "        input_dim=300,\n",
    "        kernel_initializer='glorot_uniform',\n",
    "        bias_initializer='zeros',\n",
    "        activation='tanh'\n",
    "    )\n",
    ")"
   ]
  },
  {
   "cell_type": "code",
   "execution_count": 19,
   "metadata": {},
   "outputs": [],
   "source": [
    "model.add(\n",
    "    keras.layers.Dense(\n",
    "        units=y_train.shape[1],\n",
    "        input_dim=200,\n",
    "        kernel_initializer='glorot_uniform',\n",
    "        bias_initializer='zeros',\n",
    "        activation='softmax'\n",
    "    )\n",
    ")"
   ]
  },
  {
   "cell_type": "code",
   "execution_count": 20,
   "metadata": {},
   "outputs": [],
   "source": [
    "sgd_optimizer = keras.optimizers.SGD(lr=0.001, decay=1e-7, momentum=.9)"
   ]
  },
  {
   "cell_type": "code",
   "execution_count": 21,
   "metadata": {},
   "outputs": [],
   "source": [
    "model.compile(optimizer=sgd_optimizer, loss='categorical_crossentropy')"
   ]
  },
  {
   "cell_type": "code",
   "execution_count": 22,
   "metadata": {
    "scrolled": true
   },
   "outputs": [
    {
     "name": "stdout",
     "output_type": "stream",
     "text": [
      "Train on 40103 samples, validate on 4456 samples\n",
      "Epoch 1/40\n",
      "40103/40103 [==============================] - 6s 144us/step - loss: 3.9369 - val_loss: 3.2998\n",
      "Epoch 2/40\n",
      "40103/40103 [==============================] - 5s 123us/step - loss: 3.0079 - val_loss: 2.8331\n",
      "Epoch 3/40\n",
      "40103/40103 [==============================] - 6s 146us/step - loss: 2.7379 - val_loss: 2.6976\n",
      "Epoch 4/40\n",
      "40103/40103 [==============================] - 5s 120us/step - loss: 2.6263 - val_loss: 2.6272\n",
      "Epoch 5/40\n",
      "40103/40103 [==============================] - 5s 122us/step - loss: 2.5561 - val_loss: 2.5839\n",
      "Epoch 6/40\n",
      "40103/40103 [==============================] - 5s 129us/step - loss: 2.5035 - val_loss: 2.5527\n",
      "Epoch 7/40\n",
      "40103/40103 [==============================] - 5s 119us/step - loss: 2.4602 - val_loss: 2.5294\n",
      "Epoch 8/40\n",
      "40103/40103 [==============================] - 5s 122us/step - loss: 2.4232 - val_loss: 2.5039\n",
      "Epoch 9/40\n",
      "40103/40103 [==============================] - 5s 129us/step - loss: 2.3885 - val_loss: 2.4858\n",
      "Epoch 10/40\n",
      "40103/40103 [==============================] - 5s 122us/step - loss: 2.3586 - val_loss: 2.4683\n",
      "Epoch 11/40\n",
      "40103/40103 [==============================] - 5s 119us/step - loss: 2.3285 - val_loss: 2.4577\n",
      "Epoch 12/40\n",
      "40103/40103 [==============================] - 5s 121us/step - loss: 2.3018 - val_loss: 2.4439\n",
      "Epoch 13/40\n",
      "40103/40103 [==============================] - 5s 120us/step - loss: 2.2737 - val_loss: 2.4338\n",
      "Epoch 14/40\n",
      "40103/40103 [==============================] - 5s 118us/step - loss: 2.2481 - val_loss: 2.4212\n",
      "Epoch 15/40\n",
      "40103/40103 [==============================] - 5s 118us/step - loss: 2.2232 - val_loss: 2.4150\n",
      "Epoch 16/40\n",
      "40103/40103 [==============================] - 5s 119us/step - loss: 2.1982 - val_loss: 2.4094\n",
      "Epoch 17/40\n",
      "40103/40103 [==============================] - 5s 118us/step - loss: 2.1736 - val_loss: 2.4005\n",
      "Epoch 18/40\n",
      "40103/40103 [==============================] - 5s 118us/step - loss: 2.1484 - val_loss: 2.3913\n",
      "Epoch 19/40\n",
      "40103/40103 [==============================] - 5s 118us/step - loss: 2.1225 - val_loss: 2.3905\n",
      "Epoch 20/40\n",
      "40103/40103 [==============================] - 5s 118us/step - loss: 2.0983 - val_loss: 2.3813\n",
      "Epoch 21/40\n",
      "40103/40103 [==============================] - 5s 118us/step - loss: 2.0738 - val_loss: 2.3765\n",
      "Epoch 22/40\n",
      "40103/40103 [==============================] - 5s 118us/step - loss: 2.0471 - val_loss: 2.3706\n",
      "Epoch 23/40\n",
      "40103/40103 [==============================] - 5s 122us/step - loss: 2.0220 - val_loss: 2.3676\n",
      "Epoch 24/40\n",
      "40103/40103 [==============================] - 5s 120us/step - loss: 1.9952 - val_loss: 2.3715\n",
      "Epoch 25/40\n",
      "40103/40103 [==============================] - 5s 118us/step - loss: 1.9685 - val_loss: 2.3677\n",
      "Epoch 26/40\n",
      "40103/40103 [==============================] - 5s 121us/step - loss: 1.9406 - val_loss: 2.3659\n",
      "Epoch 27/40\n",
      "40103/40103 [==============================] - 5s 119us/step - loss: 1.9133 - val_loss: 2.3681\n",
      "Epoch 28/40\n",
      "40103/40103 [==============================] - 5s 123us/step - loss: 1.8855 - val_loss: 2.3539\n",
      "Epoch 29/40\n",
      "40103/40103 [==============================] - 5s 125us/step - loss: 1.8556 - val_loss: 2.3695\n",
      "Epoch 30/40\n",
      "40103/40103 [==============================] - 5s 121us/step - loss: 1.8274 - val_loss: 2.3612\n",
      "Epoch 31/40\n",
      "40103/40103 [==============================] - 5s 132us/step - loss: 1.7955 - val_loss: 2.3700\n",
      "Epoch 32/40\n",
      "40103/40103 [==============================] - 5s 127us/step - loss: 1.7647 - val_loss: 2.3809\n",
      "Epoch 33/40\n",
      "40103/40103 [==============================] - 5s 123us/step - loss: 1.7335 - val_loss: 2.3786\n",
      "Epoch 34/40\n",
      "40103/40103 [==============================] - 5s 124us/step - loss: 1.6996 - val_loss: 2.3905\n",
      "Epoch 35/40\n",
      "40103/40103 [==============================] - 5s 123us/step - loss: 1.6705 - val_loss: 2.3951\n",
      "Epoch 36/40\n",
      "40103/40103 [==============================] - 5s 123us/step - loss: 1.6322 - val_loss: 2.3953\n",
      "Epoch 37/40\n",
      "40103/40103 [==============================] - 5s 121us/step - loss: 1.5992 - val_loss: 2.4165\n",
      "Epoch 38/40\n",
      "40103/40103 [==============================] - 5s 121us/step - loss: 1.5633 - val_loss: 2.4514\n",
      "Epoch 39/40\n",
      "40103/40103 [==============================] - 5s 121us/step - loss: 1.5349 - val_loss: 2.4547\n",
      "Epoch 40/40\n",
      "40103/40103 [==============================] - 5s 121us/step - loss: 1.4952 - val_loss: 2.4383\n"
     ]
    }
   ],
   "source": [
    "history = model.fit(\n",
    "    X_train_scaled, y_train_shuf,\n",
    "    batch_size=100, epochs=40,\n",
    "    verbose=1,\n",
    "    validation_split=0.1\n",
    ")"
   ]
  },
  {
   "cell_type": "code",
   "execution_count": 23,
   "metadata": {},
   "outputs": [],
   "source": [
    "y_train_pred = model.predict_classes(X_train_scaled, verbose=0)"
   ]
  },
  {
   "cell_type": "code",
   "execution_count": 24,
   "metadata": {},
   "outputs": [
    {
     "name": "stdout",
     "output_type": "stream",
     "text": [
      "[15 30 26  2 15 32 17 19 12  1 12 10 21 27  4 10 10 15 10  1]\n"
     ]
    }
   ],
   "source": [
    "print(y_train_pred[0:20])"
   ]
  },
  {
   "cell_type": "code",
   "execution_count": 25,
   "metadata": {},
   "outputs": [],
   "source": [
    "train_acc = np.sum(y_cold_train_shuf.values.flatten() == y_train_pred, axis=0) / 44559"
   ]
  },
  {
   "cell_type": "code",
   "execution_count": 26,
   "metadata": {},
   "outputs": [
    {
     "name": "stdout",
     "output_type": "stream",
     "text": [
      "Accuracy on training set: 0.6059830786148702\n"
     ]
    }
   ],
   "source": [
    "print(f\"Accuracy on training set: {train_acc}\")"
   ]
  },
  {
   "cell_type": "code",
   "execution_count": null,
   "metadata": {},
   "outputs": [],
   "source": []
  }
 ],
 "metadata": {
  "kernelspec": {
   "display_name": "Python 3",
   "language": "python",
   "name": "python3"
  },
  "language_info": {
   "codemirror_mode": {
    "name": "ipython",
    "version": 3
   },
   "file_extension": ".py",
   "mimetype": "text/x-python",
   "name": "python",
   "nbconvert_exporter": "python",
   "pygments_lexer": "ipython3",
   "version": "3.6.7"
  }
 },
 "nbformat": 4,
 "nbformat_minor": 2
}
