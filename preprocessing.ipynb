{
 "cells": [
  {
   "cell_type": "code",
   "execution_count": 2,
   "metadata": {},
   "outputs": [],
   "source": [
    "import numpy as np\n",
    "import pandas as pd\n",
    "import matplotlib.pyplot as plt\n",
    "import tensorflow as tf\n",
    "import tensorflow.contrib.keras as keras\n",
    "import sys\n",
    "import utils"
   ]
  },
  {
   "cell_type": "markdown",
   "metadata": {},
   "source": [
    "## Data Preprocessing"
   ]
  },
  {
   "cell_type": "markdown",
   "metadata": {},
   "source": [
    "First, we load in our data set with the `utils` helpers that are provided along with the dataset that can be found [here](https://github.com/mdeff/fma)."
   ]
  },
  {
   "cell_type": "code",
   "execution_count": 3,
   "metadata": {},
   "outputs": [
    {
     "name": "stderr",
     "output_type": "stream",
     "text": [
      "C:\\Users\\TonyX\\Desktop\\WPy-3670\\notebooks\\music-genre-analysis\\utils.py:37: FutureWarning: specifying 'categories' or 'ordered' in .astype() is deprecated; pass a CategoricalDtype instead\n",
      "  'category', categories=SUBSETS, ordered=True)\n"
     ]
    }
   ],
   "source": [
    "tracks = utils.load('./fma_metadata/tracks.csv')\n",
    "features = utils.load('./fma_metadata/features.csv')"
   ]
  },
  {
   "cell_type": "markdown",
   "metadata": {},
   "source": [
    "Then, we filter down the tracks DataFrame to only the `track_id` and `genres`."
   ]
  },
  {
   "cell_type": "code",
   "execution_count": 4,
   "metadata": {},
   "outputs": [],
   "source": [
    "# dataframe with only track_id and genre ids\n",
    "trackid_genres = tracks['track'].filter(['track_id', 'genres'])\n",
    "\n",
    "# remove songs that don't have genres\n",
    "trackid_genres = trackid_genres[trackid_genres['genres'].map(len) > 0]\n",
    "# remove songs with a genre over 161 (why is this even a thing)\n",
    "trackid_genres = trackid_genres[trackid_genres['genres'].map(max) < 161]"
   ]
  },
  {
   "cell_type": "code",
   "execution_count": 56,
   "metadata": {},
   "outputs": [
    {
     "data": {
      "text/plain": [
       "63656"
      ]
     },
     "execution_count": 56,
     "metadata": {},
     "output_type": "execute_result"
    }
   ],
   "source": [
    "trackid_genres.shape[0]"
   ]
  },
  {
   "cell_type": "markdown",
   "metadata": {},
   "source": [
    "For simplicity, we only consider the first genre listed for each song."
   ]
  },
  {
   "cell_type": "code",
   "execution_count": 12,
   "metadata": {
    "scrolled": true
   },
   "outputs": [
    {
     "name": "stdout",
     "output_type": "stream",
     "text": [
      "[[list([21])]\n",
      " [list([21])]\n",
      " [list([21])]\n",
      " [list([10])]\n",
      " [list([76, 103])]\n",
      " [list([76, 103])]\n",
      " [list([76, 103])]\n",
      " [list([76, 103])]\n",
      " [list([76, 103])]\n",
      " [list([21])]\n",
      " [list([45, 58])]\n",
      " [list([45, 58])]\n",
      " [list([1, 32])]\n",
      " [list([1, 32])]\n",
      " [list([17])]\n",
      " [list([17])]\n",
      " [list([17])]\n",
      " [list([17])]\n",
      " [list([4])]\n",
      " [list([4])]\n",
      " [list([4])]\n",
      " [list([4])]\n",
      " [list([1])]\n",
      " [list([1])]\n",
      " [list([1])]\n",
      " [list([25])]\n",
      " [list([25])]\n",
      " [list([26])]\n",
      " [list([26])]\n",
      " [list([26])]\n",
      " [list([30])]\n",
      " [list([30])]\n",
      " [list([30])]\n",
      " [list([30])]\n",
      " [list([30])]\n",
      " [list([30])]\n",
      " [list([30])]\n",
      " [list([30])]\n",
      " [list([30])]\n",
      " [list([30])]\n",
      " [list([30])]\n",
      " [list([30])]\n",
      " [list([30])]\n",
      " [list([25])]\n",
      " [list([25])]\n",
      " [list([25])]\n",
      " [list([25])]\n",
      " [list([25])]\n",
      " [list([25])]\n",
      " [list([25])]\n",
      " [list([25])]\n",
      " [list([25])]\n",
      " [list([25])]\n",
      " [list([25])]\n",
      " [list([27])]\n",
      " [list([27])]\n",
      " [list([27])]\n",
      " [list([27])]\n",
      " [list([27, 76])]\n",
      " [list([17])]\n",
      " [list([17])]\n",
      " [list([17])]\n",
      " [list([17])]\n",
      " [list([17])]\n",
      " [list([17])]\n",
      " [list([17])]\n",
      " [list([17])]\n",
      " [list([17])]\n",
      " [list([17])]\n",
      " [list([17])]\n",
      " [list([17])]\n",
      " [list([17])]\n",
      " [list([17])]\n",
      " [list([17])]\n",
      " [list([17])]\n",
      " [list([17])]\n",
      " [list([17])]\n",
      " [list([17])]\n",
      " [list([17])]\n",
      " [list([17])]\n",
      " [list([17])]\n",
      " [list([17])]\n",
      " [list([17])]\n",
      " [list([17])]\n",
      " [list([10])]\n",
      " [list([25])]\n",
      " [list([25])]\n",
      " [list([15, 92])]\n",
      " [list([4])]\n",
      " [list([4])]\n",
      " [list([12, 76])]\n",
      " [list([12])]\n",
      " [list([12, 76])]\n",
      " [list([12])]\n",
      " [list([12, 76])]\n",
      " [list([12, 76])]\n",
      " [list([12])]\n",
      " [list([12, 76])]\n",
      " [list([12, 76])]\n",
      " [list([12])]]\n"
     ]
    }
   ],
   "source": [
    "# only take the first genre if a song has multiple genres\n",
    "def getFirstGenre(genres):\n",
    "    return genres[0]\n",
    "\n",
    "reduceGenres = np.vectorize(getFirstGenre)\n",
    "y_total_single = reduceGenres(trackid_genres.values)\n"
   ]
  },
  {
   "cell_type": "code",
   "execution_count": 5,
   "metadata": {},
   "outputs": [],
   "source": [
    "def getAllGenres(genres):\n",
    "    for y in genres[0]:\n",
    "        return y\n",
    "y_total_multiple = np.zeros((63656,10) , dtype = int)\n",
    "\n",
    "for x in range(0,63655):\n",
    "    for y in range(0, len(trackid_genres.values[x][0])):\n",
    "        y_total_multiple[x][y] = trackid_genres.values[x][0][y]"
   ]
  },
  {
   "cell_type": "markdown",
   "metadata": {},
   "source": [
    "Then, we convert our `y` vector into one hot encoding using `keras`:"
   ]
  },
  {
   "cell_type": "code",
   "execution_count": 11,
   "metadata": {},
   "outputs": [
    {
     "data": {
      "text/plain": [
       "(63656, 139)"
      ]
     },
     "execution_count": 11,
     "metadata": {},
     "output_type": "execute_result"
    }
   ],
   "source": [
    "y_total_onehot_single = keras.utils.to_categorical(y_total_single)\n",
    "y_total_onehot_single.shape"
   ]
  },
  {
   "cell_type": "markdown",
   "metadata": {},
   "source": [
    "**Using All Genres**"
   ]
  },
  {
   "cell_type": "code",
   "execution_count": 12,
   "metadata": {},
   "outputs": [],
   "source": [
    "y_total_onehot_multiple = np.zeros((trackid_genres.shape[0], 161)) # m trials, n columns/output layer units\n",
    "for i in range(trackid_genres.values.shape[0]):\n",
    "    genres = trackid_genres.values[i][0]\n",
    "    vector = np.zeros(161)\n",
    "    for genre in genres:\n",
    "        vector[genre-1] = 1\n",
    "    \n",
    "    y_total_onehot_multiple[i] = vector"
   ]
  },
  {
   "cell_type": "code",
   "execution_count": 13,
   "metadata": {},
   "outputs": [
    {
     "name": "stdout",
     "output_type": "stream",
     "text": [
      "(63656, 161)\n"
     ]
    }
   ],
   "source": [
    "print(y_total_onehot_multiple.shape)"
   ]
  },
  {
   "cell_type": "code",
   "execution_count": 14,
   "metadata": {},
   "outputs": [
    {
     "data": {
      "image/png": "[encoded data removed]",
      "text/plain": [
       "<Figure size 432x288 with 1 Axes>"
      ]
     },
     "metadata": {
      "needs_background": "light"
     },
     "output_type": "display_data"
    }
   ],
   "source": [
    "# distribution of genres\n",
    "genre_distribution = np.sum(y_total_onehot_multiple, axis=0)\n",
    "\n",
    "plt.plot(genre_distribution)\n",
    "plt.ylabel('Number of Songs')\n",
    "plt.xlabel('Genre ID')\n",
    "plt.title('Genre Distribution')\n",
    "plt.rcParams[\"figure.figsize\"] = [12,12]\n",
    "plt.show()"
   ]
  },
  {
   "cell_type": "code",
   "execution_count": 15,
   "metadata": {},
   "outputs": [
    {
     "name": "stderr",
     "output_type": "stream",
     "text": [
      "C:\\Users\\TonyX\\Desktop\\WPy-3670\\python-3.6.7.amd64\\lib\\site-packages\\pandas\\core\\reshape\\merge.py:544: UserWarning: merging between different levels can give an unintended result (1 levels on the left, 3 on the right)\n",
      "  warnings.warn(msg, UserWarning)\n"
     ]
    }
   ],
   "source": [
    "X_total = trackid_genres.merge(\n",
    "    features,\n",
    "    on='track_id',\n",
    "    how='left'\n",
    ").drop('genres', axis=1)"
   ]
  },
  {
   "cell_type": "code",
   "execution_count": 16,
   "metadata": {},
   "outputs": [
    {
     "data": {
      "text/plain": [
       "(63656, 518)"
      ]
     },
     "execution_count": 16,
     "metadata": {},
     "output_type": "execute_result"
    }
   ],
   "source": [
    "X_total.shape"
   ]
  },
  {
   "cell_type": "markdown",
   "metadata": {},
   "source": [
    "Finally, we save our processed data as `csv` files on the filesystem."
   ]
  },
  {
   "cell_type": "code",
   "execution_count": 17,
   "metadata": {},
   "outputs": [],
   "source": [
    "# X_total.to_csv('X_musical_features.csv')"
   ]
  },
  {
   "cell_type": "code",
   "execution_count": 18,
   "metadata": {},
   "outputs": [],
   "source": [
    "# pd.DataFrame(y_total_onehot_single).to_csv('y_genres_onehot_single.csv')"
   ]
  },
  {
   "cell_type": "code",
   "execution_count": 19,
   "metadata": {},
   "outputs": [],
   "source": [
    "# pd.DataFrame(y_total_onehot_multiple).to_csv('y_genres_onehot_multiple.csv')"
   ]
  },
  {
   "cell_type": "code",
   "execution_count": 20,
   "metadata": {},
   "outputs": [],
   "source": [
    "# trackid_genres.to_csv('y_genres_multiple.csv')"
   ]
  },
  {
   "cell_type": "code",
   "execution_count": 21,
   "metadata": {},
   "outputs": [],
   "source": [
    "pd.DataFrame(y_total_single).to_csv('y_genres_single.csv', index=None)"
   ]
  },
  {
   "cell_type": "code",
   "execution_count": 7,
   "metadata": {},
   "outputs": [],
   "source": [
    "pd.DataFrame(y_total_multiple).to_csv('y_genres_multiple_cold.csv' , index=None)"
   ]
  },
  {
   "cell_type": "code",
   "execution_count": null,
   "metadata": {},
   "outputs": [],
   "source": []
  }
 ],
 "metadata": {
  "kernelspec": {
   "display_name": "Python 3",
   "language": "python",
   "name": "python3"
  },
  "language_info": {
   "codemirror_mode": {
    "name": "ipython",
    "version": 3
   },
   "file_extension": ".py",
   "mimetype": "text/x-python",
   "name": "python",
   "nbconvert_exporter": "python",
   "pygments_lexer": "ipython3",
   "version": "3.6.7"
  }
 },
 "nbformat": 4,
 "nbformat_minor": 2
}
