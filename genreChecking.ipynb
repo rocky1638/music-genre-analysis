{
 "cells": [
  {
   "cell_type": "code",
   "execution_count": 37,
   "metadata": {},
   "outputs": [],
   "source": [
    "import pandas as pd\n",
    "import numpy as np\n",
    "import tensorflow.keras as keras\n",
    "import os\n",
    "from sklearn.preprocessing import StandardScaler\n",
    "from sklearn.externals import joblib"
   ]
  },
  {
   "cell_type": "code",
   "execution_count": 38,
   "metadata": {},
   "outputs": [
    {
     "name": "stdout",
     "output_type": "stream",
     "text": [
      "Loaded model from disk\n"
     ]
    }
   ],
   "source": [
    "# load json and create model\n",
    "json_file = open('model.json', 'r')\n",
    "loaded_model_json = json_file.read()\n",
    "json_file.close()\n",
    "loaded_model = keras.models.model_from_json(loaded_model_json)\n",
    "# load weights into new model\n",
    "loaded_model.load_weights(\"model.h5\")\n",
    "print(\"Loaded model from disk\")\n",
    "\n",
    "scaler = joblib.load(\"scaler.save\")"
   ]
  },
  {
   "cell_type": "code",
   "execution_count": 31,
   "metadata": {},
   "outputs": [],
   "source": [
    "model = keras.models.load_model('final_model.h5')"
   ]
  },
  {
   "cell_type": "code",
   "execution_count": 32,
   "metadata": {},
   "outputs": [],
   "source": [
    "sgd_optimizer = keras.optimizers.SGD(lr=0.001, decay=1e-7, momentum=0.9)\n",
    "\n",
    "model.compile(\n",
    "    optimizer=sgd_optimizer,\n",
    "    loss='kullback_leibler_divergence',\n",
    "    metrics=['accuracy'],\n",
    ")"
   ]
  },
  {
   "cell_type": "code",
   "execution_count": 15,
   "metadata": {},
   "outputs": [],
   "source": [
    "# import the training data \n",
    "X_total = pd.read_csv('X_musical_features.csv').drop('track_id', axis=1)\n",
    "\n",
    "# import single genres y values\n",
    "y_single_total = pd.read_csv('y_genres_onehot_single.csv').drop('Unnamed: 0', axis=1)\n",
    "\n",
    "# import non-one-hotted y values\n",
    "y_cold_single_total = pd.read_csv('y_genres_single.csv')\n",
    "\n",
    "#import multiple genres y values\n",
    "y_cold_multiple_total = pd.read_csv('y_genres_multiple_cold.csv')"
   ]
  },
  {
   "cell_type": "code",
   "execution_count": 40,
   "metadata": {},
   "outputs": [],
   "source": [
    "scaled_data = scaler.transform(X_total)\n",
    "predictions = model.predict_classes(scaled_data[0:100])"
   ]
  },
  {
   "cell_type": "code",
   "execution_count": 42,
   "metadata": {},
   "outputs": [
    {
     "name": "stdout",
     "output_type": "stream",
     "text": [
      "[21 21 21 12 12 10 10 17 17 21 38  1 12  1 12 10 10 15 12  4 12 12 21 38\n",
      " 38 12 25 12 15 12 30 30 30 30 30 30 30 30 30 30 30 30 30 15 15 12 15 12\n",
      " 15 27 15 12 27  1 12 12 12 12 12 17 17 17 17 27 17 17  5 17 17 17  1 17\n",
      " 17 17 17 17 17  5  5 17  5 17 17 10 10 12 12 12  1  4 12 12 27 12 12 12\n",
      " 17  1 12 27]\n",
      "[[ 7.18065262e+00  5.23030901e+00  2.49320805e-01 ...  0.00000000e+00\n",
      "   2.08987212e+00  6.14481084e-02]\n",
      " [ 1.88896334e+00  7.60539293e-01  3.45296562e-01 ...  0.00000000e+00\n",
      "   1.71672380e+00  6.93301633e-02]\n",
      " [ 5.27562976e-01 -7.76543170e-02 -2.79610306e-01 ...  0.00000000e+00\n",
      "   2.19330311e+00  4.48606014e-02]\n",
      " ...\n",
      " [-4.53950465e-01 -9.22267139e-01 -8.45767140e-01 ...  0.00000000e+00\n",
      "   7.05596256e+00  6.34423047e-02]\n",
      " [-3.86733174e-01 -5.45597911e-01 -6.38649404e-01 ...  0.00000000e+00\n",
      "   4.16756201e+00  6.08939119e-02]\n",
      " [-8.30425844e-02  1.42130986e-01 -4.66703206e-01 ...  1.46484375e-03\n",
      "   3.12529111e+00  5.65844513e-02]]\n",
      "     0    1  2  3  4  5  6  7  8  9\n",
      "0   21    0  0  0  0  0  0  0  0  0\n",
      "1   21    0  0  0  0  0  0  0  0  0\n",
      "2   21    0  0  0  0  0  0  0  0  0\n",
      "3   10    0  0  0  0  0  0  0  0  0\n",
      "4   76  103  0  0  0  0  0  0  0  0\n",
      "5   76  103  0  0  0  0  0  0  0  0\n",
      "6   76  103  0  0  0  0  0  0  0  0\n",
      "7   76  103  0  0  0  0  0  0  0  0\n",
      "8   76  103  0  0  0  0  0  0  0  0\n",
      "9   21    0  0  0  0  0  0  0  0  0\n",
      "10  45   58  0  0  0  0  0  0  0  0\n",
      "11  45   58  0  0  0  0  0  0  0  0\n",
      "12   1   32  0  0  0  0  0  0  0  0\n",
      "13   1   32  0  0  0  0  0  0  0  0\n",
      "14  17    0  0  0  0  0  0  0  0  0\n",
      "15  17    0  0  0  0  0  0  0  0  0\n",
      "16  17    0  0  0  0  0  0  0  0  0\n",
      "17  17    0  0  0  0  0  0  0  0  0\n",
      "18   4    0  0  0  0  0  0  0  0  0\n",
      "19   4    0  0  0  0  0  0  0  0  0\n",
      "20   4    0  0  0  0  0  0  0  0  0\n",
      "21   4    0  0  0  0  0  0  0  0  0\n",
      "22   1    0  0  0  0  0  0  0  0  0\n",
      "23   1    0  0  0  0  0  0  0  0  0\n",
      "24   1    0  0  0  0  0  0  0  0  0\n"
     ]
    }
   ],
   "source": [
    "print(predictions)\n",
    "print(X_total.values[0:25])\n",
    "print(y_cold_multiple_total.head(25))"
   ]
  },
  {
   "cell_type": "code",
   "execution_count": 43,
   "metadata": {},
   "outputs": [
    {
     "name": "stdout",
     "output_type": "stream",
     "text": [
      "    genre_id  #tracks  parent         title  top_level\n",
      "11        12    32923       0          Rock         12\n",
      "22        25     9261      12          Punk         12\n",
      "31        38    38154       0  Experimental         38\n",
      "42        64      563      25  Electro-Punk         12\n"
     ]
    }
   ],
   "source": [
    "genres = pd.read_csv('./fma_metadata/genres.csv')\n",
    "print(genres.loc[genres['genre_id'].isin([25,38,12,64])])"
   ]
  },
  {
   "cell_type": "code",
   "execution_count": 48,
   "metadata": {},
   "outputs": [
    {
     "name": "stdout",
     "output_type": "stream",
     "text": [
      "[21    Audio Collage\n",
      "Name: title, dtype: object, 21    Audio Collage\n",
      "Name: title, dtype: object, 21    Audio Collage\n",
      "Name: title, dtype: object, 12    Easy Listening\n",
      "Name: title, dtype: object, 12    Easy Listening\n",
      "Name: title, dtype: object, 10    Disco\n",
      "Name: title, dtype: object, 10    Disco\n",
      "Name: title, dtype: object, 17    Soundtrack\n",
      "Name: title, dtype: object, 17    Soundtrack\n",
      "Name: title, dtype: object, 21    Audio Collage\n",
      "Name: title, dtype: object, Series([], Name: title, dtype: object), 1    International\n",
      "Name: title, dtype: object, 12    Easy Listening\n",
      "Name: title, dtype: object, 1    International\n",
      "Name: title, dtype: object, 12    Easy Listening\n",
      "Name: title, dtype: object, 10    Disco\n",
      "Name: title, dtype: object, 10    Disco\n",
      "Name: title, dtype: object, 15    Sound Effects\n",
      "Name: title, dtype: object, 12    Easy Listening\n",
      "Name: title, dtype: object, 4    Classical\n",
      "Name: title, dtype: object, 12    Easy Listening\n",
      "Name: title, dtype: object, 12    Easy Listening\n",
      "Name: title, dtype: object, 21    Audio Collage\n",
      "Name: title, dtype: object, Series([], Name: title, dtype: object), Series([], Name: title, dtype: object), 12    Easy Listening\n",
      "Name: title, dtype: object, 23    Post-Rock\n",
      "Name: title, dtype: object, 12    Easy Listening\n",
      "Name: title, dtype: object, 15    Sound Effects\n",
      "Name: title, dtype: object, 12    Easy Listening\n",
      "Name: title, dtype: object, 26    Metal\n",
      "Name: title, dtype: object, 26    Metal\n",
      "Name: title, dtype: object, 26    Metal\n",
      "Name: title, dtype: object, 26    Metal\n",
      "Name: title, dtype: object, 26    Metal\n",
      "Name: title, dtype: object, 26    Metal\n",
      "Name: title, dtype: object, 26    Metal\n",
      "Name: title, dtype: object, 26    Metal\n",
      "Name: title, dtype: object, 26    Metal\n",
      "Name: title, dtype: object, 26    Metal\n",
      "Name: title, dtype: object, 26    Metal\n",
      "Name: title, dtype: object, 26    Metal\n",
      "Name: title, dtype: object, 26    Metal\n",
      "Name: title, dtype: object, 15    Sound Effects\n",
      "Name: title, dtype: object, 15    Sound Effects\n",
      "Name: title, dtype: object, 12    Easy Listening\n",
      "Name: title, dtype: object, 15    Sound Effects\n",
      "Name: title, dtype: object, 12    Easy Listening\n",
      "Name: title, dtype: object, 15    Sound Effects\n",
      "Name: title, dtype: object, Series([], Name: title, dtype: object), 15    Sound Effects\n",
      "Name: title, dtype: object, 12    Easy Listening\n",
      "Name: title, dtype: object, Series([], Name: title, dtype: object), 1    International\n",
      "Name: title, dtype: object, 12    Easy Listening\n",
      "Name: title, dtype: object, 12    Easy Listening\n",
      "Name: title, dtype: object, 12    Easy Listening\n",
      "Name: title, dtype: object, 12    Easy Listening\n",
      "Name: title, dtype: object, 12    Easy Listening\n",
      "Name: title, dtype: object, 17    Soundtrack\n",
      "Name: title, dtype: object, 17    Soundtrack\n",
      "Name: title, dtype: object, 17    Soundtrack\n",
      "Name: title, dtype: object, 17    Soundtrack\n",
      "Name: title, dtype: object, Series([], Name: title, dtype: object), 17    Soundtrack\n",
      "Name: title, dtype: object, 17    Soundtrack\n",
      "Name: title, dtype: object, 5    Novelty\n",
      "Name: title, dtype: object, 17    Soundtrack\n",
      "Name: title, dtype: object, 17    Soundtrack\n",
      "Name: title, dtype: object, 17    Soundtrack\n",
      "Name: title, dtype: object, 1    International\n",
      "Name: title, dtype: object, 17    Soundtrack\n",
      "Name: title, dtype: object, 17    Soundtrack\n",
      "Name: title, dtype: object, 17    Soundtrack\n",
      "Name: title, dtype: object, 17    Soundtrack\n",
      "Name: title, dtype: object, 17    Soundtrack\n",
      "Name: title, dtype: object, 17    Soundtrack\n",
      "Name: title, dtype: object, 5    Novelty\n",
      "Name: title, dtype: object, 5    Novelty\n",
      "Name: title, dtype: object, 17    Soundtrack\n",
      "Name: title, dtype: object, 5    Novelty\n",
      "Name: title, dtype: object, 17    Soundtrack\n",
      "Name: title, dtype: object, 17    Soundtrack\n",
      "Name: title, dtype: object, 10    Disco\n",
      "Name: title, dtype: object, 10    Disco\n",
      "Name: title, dtype: object, 12    Easy Listening\n",
      "Name: title, dtype: object, 12    Easy Listening\n",
      "Name: title, dtype: object, 12    Easy Listening\n",
      "Name: title, dtype: object, 1    International\n",
      "Name: title, dtype: object, 4    Classical\n",
      "Name: title, dtype: object, 12    Easy Listening\n",
      "Name: title, dtype: object, 12    Easy Listening\n",
      "Name: title, dtype: object, Series([], Name: title, dtype: object), 12    Easy Listening\n",
      "Name: title, dtype: object, 12    Easy Listening\n",
      "Name: title, dtype: object, 12    Easy Listening\n",
      "Name: title, dtype: object, 17    Soundtrack\n",
      "Name: title, dtype: object, 1    International\n",
      "Name: title, dtype: object, 12    Easy Listening\n",
      "Name: title, dtype: object, Series([], Name: title, dtype: object)]\n"
     ]
    }
   ],
   "source": [
    "predicted_genres = []\n",
    "\n",
    "for genre_id in predictions:\n",
    "    predicted_genres.append(genres.loc[genres['genre_id'] == (genre_id + 1)]['title'])\n",
    "\n",
    "print(predicted_genres)"
   ]
  },
  {
   "cell_type": "code",
   "execution_count": null,
   "metadata": {},
   "outputs": [],
   "source": []
  }
 ],
 "metadata": {
  "kernelspec": {
   "display_name": "Python 3",
   "language": "python",
   "name": "python3"
  },
  "language_info": {
   "codemirror_mode": {
    "name": "ipython",
    "version": 3
   },
   "file_extension": ".py",
   "mimetype": "text/x-python",
   "name": "python",
   "nbconvert_exporter": "python",
   "pygments_lexer": "ipython3",
   "version": "3.6.7"
  }
 },
 "nbformat": 4,
 "nbformat_minor": 2
}
